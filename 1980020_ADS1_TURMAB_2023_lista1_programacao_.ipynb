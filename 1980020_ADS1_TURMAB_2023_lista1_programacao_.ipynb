{
  "cells": [
    {
      "cell_type": "markdown",
      "metadata": {
        "id": "5rdfwgHn0dhS"
      },
      "source": [
        "1. Crie um algoritmo que receba um valor em metros e converta para\n",
        "centímetros"
      ]
    },
    {
      "cell_type": "code",
      "execution_count": null,
      "metadata": {
        "id": "QvePVxCW0elx"
      },
      "outputs": [],
      "source": [
        "alg = float(input(\"Insira o valor em metro: \"))\n",
        "m = alg * 100\n",
        "print(f\"valor em centímetros {m}\")"
      ]
    },
    {
      "cell_type": "markdown",
      "source": [
        "2. Crie um algoritmo que pergunte quanto você ganha por hora e o número\n",
        "de horas que você trabalha por mês, o algoritmo deve calcular e mostrar\n",
        "qual seu salário naquele mês."
      ],
      "metadata": {
        "id": "0qXIWvWV_AeV"
      }
    },
    {
      "cell_type": "code",
      "source": [
        "h = float(input(\"Insira o seu ganho por hora: \"))\n",
        "num = int(input(\"Insira o seu número de horas trabalhadas no mês: \"))\n",
        "print(f\"seu salário mensal é: {h * num}\")"
      ],
      "metadata": {
        "colab": {
          "base_uri": "https://localhost:8080/"
        },
        "id": "YYrdJeGn_BTk",
        "outputId": "e6e3db6b-5587-4772-8497-8a0f57dfde95"
      },
      "execution_count": null,
      "outputs": [
        {
          "output_type": "stream",
          "name": "stdout",
          "text": [
            "Insira o seu ganho por hora: 23.50\n",
            "Insira o seu número de horas trabalhadas no mês: 420\n",
            "seu salário mensal é: 9870.0\n"
          ]
        }
      ]
    },
    {
      "cell_type": "markdown",
      "source": [
        "3. Crie um algoritmo que receba uma temperatura em Fahrenheit e converta\n",
        "para Celsius, utilizando a fórmula:"
      ],
      "metadata": {
        "id": "oFOnJoPd_6LF"
      }
    },
    {
      "cell_type": "code",
      "source": [
        "tempF = float(input(\"Insira a temperatura em Fahrenheit: \"))\n",
        "tempC = 5 * ((tempF - 32) /9)\n",
        "print(f\"a temperatura em Celsius é de: {tempC}\")"
      ],
      "metadata": {
        "colab": {
          "base_uri": "https://localhost:8080/"
        },
        "id": "ewxbJOjq_-fs",
        "outputId": "f8ab89db-227c-4ca3-9109-20f610c236b3"
      },
      "execution_count": null,
      "outputs": [
        {
          "output_type": "stream",
          "name": "stdout",
          "text": [
            "Insira a temperatura em Fahrenheit: 2\n",
            "a temperatura em Celsius é de: -16.666666666666668\n"
          ]
        }
      ]
    },
    {
      "cell_type": "markdown",
      "source": [
        "4. Crie um algoritmo que receba a altura e o peso de uma pessoa e mostre\n",
        "seu Índice de Massa Corporal (IMC), utilizando a seguinte fórmula:\n"
      ],
      "metadata": {
        "id": "ASvE_wuZBBRd"
      }
    },
    {
      "cell_type": "code",
      "source": [
        "peso = float(input(\"Insira o seu peso (kg): \"))\n",
        "altura = float(input(\"Insira sua altura (m): \"))\n",
        "imc = peso/(altura)**2\n",
        "print(f\"Seu IMC é de: {imc}\")"
      ],
      "metadata": {
        "colab": {
          "base_uri": "https://localhost:8080/"
        },
        "id": "P4SMe5cQBBss",
        "outputId": "fd7a5e12-fc10-4591-dacf-0761c1225060"
      },
      "execution_count": null,
      "outputs": [
        {
          "output_type": "stream",
          "name": "stdout",
          "text": [
            "Insira o seu peso (kg): 88\n",
            "Insira sua altura (m): 1.80\n",
            "Seu IMC é de: 27.160493827160494\n"
          ]
        }
      ]
    },
    {
      "cell_type": "markdown",
      "source": [
        "5. Zé Papo-de-Pescador, homem de bem, comprou um microcomputador\n",
        "para controlar o rendimento diário de seu trabalho. Toda vez que ele traz\n",
        "um peso de peixes maior que o estabelecido pelo regulamento de pesca\n",
        "do estado de São Paulo (30 quilos) deve pagar uma multa de R$ 3,00 por\n",
        "quilo excedente. Zé precisa que você faça um algoritmo que leia a variável\n",
        "peso (peso de peixes) e calcule o excesso. Gravar na variável excesso a\n",
        "quantidade de quilos além do limite e na variável multa o valor da multa\n",
        "que Zé deverá pagar. Imprima os dados do algoritmo com as mensagens\n",
        "adequadas.\n"
      ],
      "metadata": {
        "id": "SkzZGy7OCTiN"
      }
    },
    {
      "cell_type": "code",
      "source": [
        "peixe = float(input('Insira o total de quilos de peixe pescados: '))\n",
        "peixe >= (peixe - 30) * 3\n",
        "print(f'O valor a pagar é {peixe}\\ncaso valor = negativo não é necessario pagar multa')\n"
      ],
      "metadata": {
        "id": "9bTg9FkgCUHd",
        "colab": {
          "base_uri": "https://localhost:8080/"
        },
        "outputId": "90f9656d-9aad-4b16-e95d-782ae2662fee"
      },
      "execution_count": null,
      "outputs": [
        {
          "output_type": "stream",
          "name": "stdout",
          "text": [
            "Insira o total de quilos de peixe pescados: 25\n",
            "a\n",
            "O valor a pagar é 25.0\n",
            "caso valor = negativo não é necessario pagar multa\n"
          ]
        }
      ]
    },
    {
      "cell_type": "markdown",
      "source": [
        "6. Crie um algoritmo que receba quanto você ganha por hora e quantas\n",
        "horas trabalhou no mês. O algoritmo deve calcular e mostrar o seu salário\n",
        "no referido mês, sabendo que serão descontados 11% do Imposto de\n",
        "Rende (IR) e mais 8% do INSS. No final o algoritmo deve apresentar:\n",
        "\n",
        "a. Salário bruto\n",
        "\n",
        "b. Valor do imposto de renda\n",
        "\n",
        "c. Valor do INSS\n",
        "\n",
        "d. Salário líquido (líquido = bruto – impostos)"
      ],
      "metadata": {
        "id": "NxHWrb7vi5UG"
      }
    },
    {
      "cell_type": "code",
      "source": [
        "salario = float(input('Insira o seu salário hora: '))\n",
        "horas = int(input('Insira quantas horas você trabalhou ao mês: '))\n",
        "\n",
        "salarioH = (salario*horas)\n",
        "\n",
        "iR = (salarioH*0.11)\n",
        "ir = (salarioH - IR)\n",
        "iNSS = (salarioH*0.08)\n",
        "inss = (salarioH - INSS)\n",
        "salarioL = (salarioH - iR - iNSS)\n",
        "\n",
        "print(f'Seu salário bruto é de: {salarioH}')\n",
        "print(f'Seu valor do Imposto de Renda é de: {IR}')\n",
        "print(f'Seu valor do INSS é de: {INSS}')\n",
        "print(f'Seu salário líquido é de: {salarioL}')"
      ],
      "metadata": {
        "colab": {
          "base_uri": "https://localhost:8080/"
        },
        "id": "pBeaJSs3jfal",
        "outputId": "add73006-6f45-4743-e04c-95b671183073"
      },
      "execution_count": null,
      "outputs": [
        {
          "output_type": "stream",
          "name": "stdout",
          "text": [
            "Insira o seu salário hora: 23\n",
            "Insira quantas horas você trabalhou ao mês: 370\n",
            "Seu salário bruto é de: 8510.0\n",
            "Seu valor do Imposto de Renda é de: 936.1\n",
            "Seu valor do INSS é de: 680.8000000000001\n",
            "Seu salário líquido é de: 6893.099999999999\n"
          ]
        }
      ]
    },
    {
      "cell_type": "markdown",
      "source": [],
      "metadata": {
        "id": "3K4YDymmoAZu"
      }
    },
    {
      "cell_type": "markdown",
      "source": [
        "7. Você foi contratado pela Unimar para ajudar na reforma dos blocos, o seu\n",
        "papel é apoiar e facilitar as tomadas de decisões. Você vai ajudar a\n",
        "otimizar os gastos para pintura, crie um programa para uma loja de tintas.\n",
        "O programa deverá pedir o tamanho em metros quadrados da área a ser\n",
        "pintada. Considere que a cobertura da tinta é de 1 litro para cada 3 metros\n",
        "quadrados e que a tinta é vendida em latas de 18 litros, que custam R$\n",
        "80,00. Informe ao usuário a quantidades de latas de tinta a serem\n",
        "compradas e o preço total."
      ],
      "metadata": {
        "id": "DL4fFnMjoJAe"
      }
    },
    {
      "cell_type": "code",
      "source": [
        "base = float(input('Qual a largura da area a ser pintada?: '))\n",
        "altura = float(input('Qual a altura da área a ser pintada?: '))\n",
        "\n",
        "areaB = (base*altura)\n",
        "litro = (areaB / 3)\n",
        "lata = (litro / 18)\n",
        "preco = (lata * 80)\n",
        "\n",
        "print(f'o valor a ser pago é de: {preco}')\n",
        "#nao entendiiii"
      ],
      "metadata": {
        "colab": {
          "base_uri": "https://localhost:8080/"
        },
        "id": "ztekBkFboJ_2",
        "outputId": "5fdf7a9f-1ba0-44d4-e496-aa495b2fb4f8"
      },
      "execution_count": null,
      "outputs": [
        {
          "output_type": "stream",
          "name": "stdout",
          "text": [
            "Qual a largura da area a ser pintada?: 7\n",
            "Qual a altura da área a ser pintada?: 3\n",
            "o valor a ser pago é de: 31.11111111111111\n"
          ]
        }
      ]
    }
  ],
  "metadata": {
    "colab": {
      "provenance": []
    },
    "kernelspec": {
      "display_name": "Python 3",
      "name": "python3"
    },
    "language_info": {
      "name": "python"
    }
  },
  "nbformat": 4,
  "nbformat_minor": 0
}